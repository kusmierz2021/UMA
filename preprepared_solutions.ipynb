{
 "cells": [
  {
   "cell_type": "markdown",
   "metadata": {},
   "source": [
    "## read data"
   ]
  },
  {
   "cell_type": "code",
   "execution_count": 61,
   "metadata": {
    "pycharm": {
     "is_executing": true
    }
   },
   "outputs": [],
   "source": [
    "import pandas as pd\n",
    "\n",
    "from sklearn import tree\n",
    "from sklearn.ensemble import RandomForestClassifier\n",
    "from sklearn.preprocessing import OneHotEncoder\n",
    "from sklearn.compose import make_column_transformer\n",
    "from sklearn import metrics\n",
    "\n"
   ]
  },
  {
   "cell_type": "code",
   "execution_count": 62,
   "metadata": {},
   "outputs": [],
   "source": [
    "def transform_categorical(df, caterogical_columns):\n",
    "    transformer = make_column_transformer(\n",
    "    (OneHotEncoder(), caterogical_columns),\n",
    "    remainder='passthrough')\n",
    "    transformed = transformer.fit_transform(df)\n",
    "    transformed_df = pd.DataFrame(transformed)\n",
    "    return transformed_df"
   ]
  },
  {
   "cell_type": "code",
   "execution_count": 63,
   "metadata": {},
   "outputs": [],
   "source": [
    "def score(predicted, y_test):\n",
    "    correct = 0\n",
    "    incorrect = 0\n",
    "    for i in range(len(predicted)):\n",
    "        if predicted[i] == y_test[i]:\n",
    "            correct += 1\n",
    "        else:\n",
    "            incorrect +=1\n",
    "    score = correct / (correct + incorrect)\n",
    "    return score"
   ]
  },
  {
   "cell_type": "code",
   "execution_count": 64,
   "metadata": {},
   "outputs": [],
   "source": [
    "airline_passenger_satisfaction = ['Gender', 'Customer Type', 'Type of Travel', 'Class']\n",
    "DrugsABCXY = ['Sex', 'BP', 'Cholesterol']\n",
    "stroke_prediction_dataset = ['gender', 'ever_married', 'work_type', 'Residence_type', 'smoking_status']"
   ]
  },
  {
   "cell_type": "markdown",
   "metadata": {},
   "source": [
    "## airline-passenger-satisfaction"
   ]
  },
  {
   "cell_type": "code",
   "execution_count": 65,
   "metadata": {},
   "outputs": [],
   "source": [
    "train_df = pd.read_csv(\"data/airline-passenger-satisfaction/train.csv\")\n",
    "test_df = pd.read_csv(\"data/airline-passenger-satisfaction/test.csv\")\n",
    "\n",
    "train_df.pop(\"Unnamed: 0\")\n",
    "train_df.pop(\"id\")\n",
    "train_df = train_df.dropna()\n",
    "\n",
    "test_df.pop(\"Unnamed: 0\")\n",
    "test_df.pop(\"id\")\n",
    "test_df = test_df.dropna()\n",
    "\n",
    "y_train = train_df.pop('satisfaction')\n",
    "y_test = test_df.pop('satisfaction')\n",
    "\n",
    "train_df = transform_categorical(train_df, airline_passenger_satisfaction)\n",
    "test_df = transform_categorical(test_df, airline_passenger_satisfaction)\n",
    "\n",
    "\n"
   ]
  },
  {
   "cell_type": "code",
   "execution_count": null,
   "outputs": [],
   "source": [
    "tree_airline_passenger_satisfaction = tree.DecisionTreeClassifier(max_depth = 4)\n",
    "tree_airline_passenger_satisfaction.fit(train_df, y_train)\n",
    "\n",
    "# metrics.plot_roc_curve(tree_airline_passenger_satisfaction, test_df, y_test)\n",
    "predicted = tree_airline_passenger_satisfaction.predict(test_df)\n",
    "\n",
    "\n",
    "proper = y_test\n",
    "conf_matrix = confusion_matrix(proper, predicted)\n",
    "\n",
    "print(conf_matrix)\n",
    "\n",
    "\n",
    "\n",
    "ax = sns.heatmap(conf_matrix/np.sum(conf_matrix), annot=True, fmt='.2%', cmap='Greens')\n",
    "\n",
    "ax.set_title('Airline-satisfaction (tree)')\n",
    "ax.set_xlabel('Predicted Values')\n",
    "ax.set_ylabel('Actual Values ')\n",
    "\n",
    "## Ticket labels - List must be in alphabetical order\n",
    "labels = ['neutral or dissatisfied', 'satisfied']\n",
    "ax.xaxis.set_ticklabels(labels)\n",
    "ax.yaxis.set_ticklabels(labels)\n",
    "\n",
    "## Display the visualization of the Confusion Matrix.\n",
    "plt.show()\n"
   ],
   "metadata": {
    "collapsed": false,
    "pycharm": {
     "name": "#%%\n"
    }
   }
  },
  {
   "cell_type": "code",
   "execution_count": null,
   "outputs": [],
   "source": [
    "\n",
    "forest_airline_passenger_satisfaction = RandomForestClassifier(max_depth=4)\n",
    "forest_airline_passenger_satisfaction.fit(train_df, y_train)\n",
    "\n",
    "# metrics.plot_roc_curve(forest_airline_passenger_satisfaction, test_df, y_test)\n",
    "predicted = forest_airline_passenger_satisfaction.predict(test_df)\n",
    "\n",
    "proper = y_test\n",
    "conf_matrix = confusion_matrix(proper, predicted)\n",
    "\n",
    "print(conf_matrix)\n",
    "\n",
    "\n",
    "\n",
    "ax = sns.heatmap(conf_matrix/np.sum(conf_matrix), annot=True, fmt='.2%', cmap='Greens')\n",
    "\n",
    "ax.set_title('Airline-satisfaction (forest)')\n",
    "ax.set_xlabel('Predicted Values')\n",
    "ax.set_ylabel('Actual Values ')\n",
    "\n",
    "## Ticket labels - List must be in alphabetical order\n",
    "labels = ['neutral or dissatisfied', 'satisfied']\n",
    "ax.xaxis.set_ticklabels(labels)\n",
    "ax.yaxis.set_ticklabels(labels)\n",
    "\n",
    "## Display the visualization of the Confusion Matrix.\n",
    "plt.show()"
   ],
   "metadata": {
    "collapsed": false,
    "pycharm": {
     "name": "#%%\n"
    }
   }
  },
  {
   "cell_type": "markdown",
   "source": [
    "## stroke-prediction-dataset"
   ],
   "metadata": {
    "collapsed": false,
    "pycharm": {
     "name": "#%% md\n"
    }
   }
  },
  {
   "cell_type": "code",
   "execution_count": null,
   "outputs": [],
   "source": [
    "train_df = pd.read_csv(\"data/stroke-prediction-dataset/train.csv\")\n",
    "test_df = pd.read_csv(\"data/stroke-prediction-dataset/test.csv\")\n",
    "\n",
    "\n",
    "train_df = train_df.dropna()\n",
    "test_df = test_df.dropna()\n",
    "train_number_rows = train_df.shape[0]\n",
    "\n",
    "y_train = train_df.pop('stroke')\n",
    "y_test = test_df.pop('stroke')\n",
    "\n",
    "df = pd.concat([train_df, test_df])\n",
    "df = transform_categorical(df, stroke_prediction_dataset)\n",
    "\n",
    "train_df = df.iloc[:train_number_rows, :]\n",
    "test_df = df.iloc[train_number_rows:, :]\n",
    "\n"
   ],
   "metadata": {
    "collapsed": false,
    "pycharm": {
     "name": "#%%\n"
    }
   }
  },
  {
   "cell_type": "code",
   "execution_count": null,
   "outputs": [],
   "source": [
    "tree_stroke_prediction_dataset = tree.DecisionTreeClassifier(max_depth = 4)\n",
    "tree_stroke_prediction_dataset.fit(train_df, y_train)\n",
    "\n",
    "# metrics.plot_roc_curve(tree_stroke_prediction_dataset, test_df, y_test)\n",
    "predicted = tree_stroke_prediction_dataset.predict(test_df)\n",
    "\n",
    "proper = y_test\n",
    "conf_matrix = confusion_matrix(proper, predicted)\n",
    "\n",
    "print(conf_matrix)\n",
    "\n",
    "\n",
    "\n",
    "ax = sns.heatmap(conf_matrix/np.sum(conf_matrix), annot=True, fmt='.2%', cmap='Greens')\n",
    "\n",
    "ax.set_title('Stroke (tree)')\n",
    "ax.set_xlabel('Predicted Values')\n",
    "ax.set_ylabel('Actual Values ')\n",
    "\n",
    "## Ticket labels - List must be in alphabetical order\n",
    "labels = ['0', '1']\n",
    "ax.xaxis.set_ticklabels(labels)\n",
    "ax.yaxis.set_ticklabels(labels)\n",
    "\n",
    "## Display the visualization of the Confusion Matrix.\n",
    "plt.show()\n"
   ],
   "metadata": {
    "collapsed": false,
    "pycharm": {
     "name": "#%%\n"
    }
   }
  },
  {
   "cell_type": "code",
   "execution_count": null,
   "outputs": [],
   "source": [
    "forest_stroke_prediction_dataset = RandomForestClassifier(max_depth=4)\n",
    "forest_stroke_prediction_dataset.fit(train_df, y_train)\n",
    "\n",
    "# metrics.plot_roc_curve(forest_stroke_prediction_dataset, test_df, y_test)\n",
    "predicted = forest_stroke_prediction_dataset.predict(test_df)\n",
    "\n",
    "proper = y_test\n",
    "conf_matrix = confusion_matrix(proper, predicted)\n",
    "\n",
    "print(conf_matrix)\n",
    "\n",
    "\n",
    "\n",
    "ax = sns.heatmap(conf_matrix/np.sum(conf_matrix), annot=True, fmt='.2%', cmap='Greens')\n",
    "\n",
    "ax.set_title('Stroke (forest)')\n",
    "ax.set_xlabel('Predicted Values')\n",
    "ax.set_ylabel('Actual Values ')\n",
    "\n",
    "## Ticket labels - List must be in alphabetical order\n",
    "labels = ['0', '1']\n",
    "ax.xaxis.set_ticklabels(labels)\n",
    "ax.yaxis.set_ticklabels(labels)\n",
    "\n",
    "## Display the visualization of the Confusion Matrix.\n",
    "plt.show()"
   ],
   "metadata": {
    "collapsed": false,
    "pycharm": {
     "name": "#%%\n"
    }
   }
  },
  {
   "cell_type": "markdown",
   "source": [
    "## DrugsABCXY"
   ],
   "metadata": {
    "collapsed": false,
    "pycharm": {
     "name": "#%% md\n"
    }
   }
  },
  {
   "cell_type": "code",
   "execution_count": null,
   "outputs": [],
   "source": [
    "train_df = pd.read_csv(\"data/DrugsABCXY/train.csv\")\n",
    "test_df = pd.read_csv(\"data/DrugsABCXY/test.csv\")\n",
    "\n",
    "y_train = train_df.pop('Drug')\n",
    "y_test = test_df.pop('Drug')\n",
    "\n",
    "train_df = transform_categorical(train_df, DrugsABCXY)\n",
    "test_df = transform_categorical(test_df, DrugsABCXY)\n",
    "from sklearn.metrics import confusion_matrix\n",
    "import matplotlib.pyplot as plt\n",
    "import seaborn as sns\n",
    "import numpy as np\n",
    "import pickle\n"
   ],
   "metadata": {
    "collapsed": false,
    "pycharm": {
     "name": "#%%\n"
    }
   }
  },
  {
   "cell_type": "code",
   "execution_count": null,
   "outputs": [],
   "source": [
    "tree_drugsabcxy = tree.DecisionTreeClassifier(max_depth = 4)\n",
    "tree_drugsabcxy.fit(train_df, y_train)\n",
    "\n",
    "predicted = tree_drugsabcxy.predict(test_df)\n",
    "score(predicted, y_test)\n",
    "\n",
    "proper = y_test\n",
    "conf_matrix = confusion_matrix(proper, predicted)\n",
    "\n",
    "print(conf_matrix)\n",
    "\n",
    "\n",
    "\n",
    "ax = sns.heatmap(conf_matrix/np.sum(conf_matrix), annot=True, fmt='.2%', cmap='Greens')\n",
    "\n",
    "ax.set_title('Drugs (tree)')\n",
    "ax.set_xlabel('Predicted Values')\n",
    "ax.set_ylabel('Actual Values ')\n",
    "\n",
    "## Ticket labels - List must be in alphabetical order\n",
    "labels = ['DrugA', 'DrugC', 'DrugX', 'DrugY']\n",
    "ax.xaxis.set_ticklabels(labels)\n",
    "ax.yaxis.set_ticklabels(labels)\n",
    "\n",
    "## Display the visualization of the Confusion Matrix.\n",
    "plt.show()\n"
   ],
   "metadata": {
    "collapsed": false,
    "pycharm": {
     "name": "#%%\n"
    }
   }
  },
  {
   "cell_type": "code",
   "execution_count": null,
   "outputs": [],
   "source": [
    "forest_drugsabcxy = RandomForestClassifier(max_depth=4)\n",
    "forest_drugsabcxy.fit(train_df, y_train)\n",
    "\n",
    "predicted = forest_drugsabcxy.predict(test_df)\n",
    "score(predicted, y_test)\n",
    "\n",
    "proper = y_test\n",
    "conf_matrix = confusion_matrix(proper, predicted)\n",
    "\n",
    "print(conf_matrix)\n",
    "\n",
    "\n",
    "\n",
    "ax = sns.heatmap(conf_matrix/np.sum(conf_matrix), annot=True, fmt='.2%', cmap='Greens')\n",
    "\n",
    "ax.set_title('Drugs (forest)')\n",
    "ax.set_xlabel('Predicted Values')\n",
    "ax.set_ylabel('Actual Values ')\n",
    "\n",
    "## Ticket labels - List must be in alphabetical order\n",
    "labels = ['DrugA', 'DrugC', 'DrugX', 'DrugY']\n",
    "ax.xaxis.set_ticklabels(labels)\n",
    "ax.yaxis.set_ticklabels(labels)\n",
    "\n",
    "## Display the visualization of the Confusion Matrix.\n",
    "plt.show()\n",
    "\n"
   ],
   "metadata": {
    "collapsed": false,
    "pycharm": {
     "name": "#%%\n"
    }
   }
  },
  {
   "cell_type": "markdown",
   "source": [
    "## mobile-price-classification"
   ],
   "metadata": {
    "collapsed": false,
    "pycharm": {
     "name": "#%% md\n"
    }
   }
  },
  {
   "cell_type": "code",
   "execution_count": null,
   "outputs": [],
   "source": [
    "train_df = pd.read_csv(\"data/mobile-price-classification/train.csv\")\n",
    "test_df = pd.read_csv(\"data/mobile-price-classification/test.csv\")\n",
    "\n",
    "y_train = train_df.pop('price_range')\n",
    "y_test = test_df.pop('price_range')"
   ],
   "metadata": {
    "collapsed": false,
    "pycharm": {
     "name": "#%%\n"
    }
   }
  },
  {
   "cell_type": "code",
   "execution_count": null,
   "outputs": [],
   "source": [
    "tree_mobile_price_classification = tree.DecisionTreeClassifier(max_depth = 4)\n",
    "tree_mobile_price_classification.fit(train_df, y_train)\n",
    "\n",
    "predicted = tree_mobile_price_classification.predict(test_df)\n",
    "score(predicted, y_test)\n",
    "\n",
    "proper = y_test\n",
    "conf_matrix = confusion_matrix(proper, predicted)\n",
    "\n",
    "print(conf_matrix)\n",
    "\n",
    "\n",
    "\n",
    "ax = sns.heatmap(conf_matrix/np.sum(conf_matrix), annot=True, fmt='.2%', cmap='Greens')\n",
    "\n",
    "ax.set_title('Mobile-price (tree)')\n",
    "ax.set_xlabel('Predicted Values')\n",
    "ax.set_ylabel('Actual Values ')\n",
    "\n",
    "## Ticket labels - List must be in alphabetical order\n",
    "labels = ['0', '1', '2', '3']\n",
    "ax.xaxis.set_ticklabels(labels)\n",
    "ax.yaxis.set_ticklabels(labels)\n",
    "\n",
    "## Display the visualization of the Confusion Matrix.\n",
    "plt.show()"
   ],
   "metadata": {
    "collapsed": false,
    "pycharm": {
     "name": "#%%\n"
    }
   }
  },
  {
   "cell_type": "code",
   "execution_count": null,
   "outputs": [],
   "source": [
    "forest_mobile_price_classification = RandomForestClassifier(max_depth=4)\n",
    "forest_mobile_price_classification.fit(train_df, y_train)\n",
    "\n",
    "predicted = forest_mobile_price_classification.predict(test_df)\n",
    "score(predicted, y_test)\n",
    "\n",
    "proper = y_test\n",
    "conf_matrix = confusion_matrix(proper, predicted)\n",
    "\n",
    "print(conf_matrix)\n",
    "\n",
    "\n",
    "\n",
    "ax = sns.heatmap(conf_matrix/np.sum(conf_matrix), annot=True, fmt='.2%', cmap='Greens')\n",
    "\n",
    "ax.set_title('Mobile-price (forest)')\n",
    "ax.set_xlabel('Predicted Values')\n",
    "ax.set_ylabel('Actual Values ')\n",
    "\n",
    "## Ticket labels - List must be in alphabetical order\n",
    "labels = ['0', '1', '2', '3']\n",
    "ax.xaxis.set_ticklabels(labels)\n",
    "ax.yaxis.set_ticklabels(labels)\n",
    "\n",
    "## Display the visualization of the Confusion Matrix.\n",
    "plt.show()"
   ],
   "metadata": {
    "collapsed": false,
    "pycharm": {
     "name": "#%%\n"
    }
   }
  },
  {
   "cell_type": "markdown",
   "source": [
    "## wheat-seeds"
   ],
   "metadata": {
    "collapsed": false,
    "pycharm": {
     "name": "#%% md\n"
    }
   }
  },
  {
   "cell_type": "code",
   "execution_count": null,
   "outputs": [],
   "source": [
    "train_df = pd.read_csv(\"data/wheat-seeds/train.csv\")\n",
    "test_df = pd.read_csv(\"data/wheat-seeds/test.csv\")\n",
    "\n",
    "y_train = train_df.pop('Type')\n",
    "y_test = test_df.pop('Type')\n"
   ],
   "metadata": {
    "collapsed": false,
    "pycharm": {
     "name": "#%%\n"
    }
   }
  },
  {
   "cell_type": "code",
   "execution_count": null,
   "outputs": [],
   "source": [
    "tree_wheat_seeds = tree.DecisionTreeClassifier(max_depth = 4)\n",
    "tree_wheat_seeds.fit(train_df, y_train)\n",
    "\n",
    "predicted = tree_wheat_seeds.predict(test_df)\n",
    "score(predicted, y_test)\n",
    "\n",
    "proper = y_test\n",
    "conf_matrix = confusion_matrix(proper, predicted)\n",
    "\n",
    "print(conf_matrix)\n",
    "\n",
    "\n",
    "\n",
    "ax = sns.heatmap(conf_matrix/np.sum(conf_matrix), annot=True, fmt='.2%', cmap='Greens')\n",
    "\n",
    "ax.set_title('Wheat (tree)')\n",
    "ax.set_xlabel('Predicted Values')\n",
    "ax.set_ylabel('Actual Values ')\n",
    "\n",
    "## Ticket labels - List must be in alphabetical order\n",
    "labels = ['1', '2', '3']\n",
    "ax.xaxis.set_ticklabels(labels)\n",
    "ax.yaxis.set_ticklabels(labels)\n",
    "\n",
    "## Display the visualization of the Confusion Matrix.\n",
    "plt.show()"
   ],
   "metadata": {
    "collapsed": false,
    "pycharm": {
     "name": "#%%\n"
    }
   }
  },
  {
   "cell_type": "code",
   "execution_count": null,
   "outputs": [],
   "source": [
    "forest_wheat_seeds = RandomForestClassifier(max_depth=4)\n",
    "forest_wheat_seeds.fit(train_df, y_train)\n",
    "\n",
    "predicted = forest_wheat_seeds.predict(test_df)\n",
    "score(predicted, y_test)\n",
    "\n",
    "proper = y_test\n",
    "conf_matrix = confusion_matrix(proper, predicted)\n",
    "\n",
    "print(conf_matrix)\n",
    "\n",
    "\n",
    "\n",
    "ax = sns.heatmap(conf_matrix/np.sum(conf_matrix), annot=True, fmt='.2%', cmap='Greens')\n",
    "\n",
    "ax.set_title('Wheat (forest)')\n",
    "ax.set_xlabel('Predicted Values')\n",
    "ax.set_ylabel('Actual Values ')\n",
    "\n",
    "## Ticket labels - List must be in alphabetical order\n",
    "labels = ['1', '2', '3']\n",
    "ax.xaxis.set_ticklabels(labels)\n",
    "ax.yaxis.set_ticklabels(labels)\n",
    "\n",
    "## Display the visualization of the Confusion Matrix.\n",
    "plt.show()"
   ],
   "metadata": {
    "collapsed": false,
    "pycharm": {
     "name": "#%%\n"
    }
   }
  },
  {
   "cell_type": "markdown",
   "source": [
    "## winequality-red"
   ],
   "metadata": {
    "collapsed": false,
    "pycharm": {
     "name": "#%% md\n"
    }
   }
  },
  {
   "cell_type": "code",
   "execution_count": null,
   "outputs": [],
   "source": [
    "train_df = pd.read_csv(\"data/winequality-red/train.csv\")\n",
    "test_df = pd.read_csv(\"data/winequality-red/test.csv\")\n",
    "\n",
    "y_train = train_df.pop('quality')\n",
    "y_test = test_df.pop('quality')"
   ],
   "metadata": {
    "collapsed": false,
    "pycharm": {
     "name": "#%%\n"
    }
   }
  },
  {
   "cell_type": "code",
   "execution_count": null,
   "outputs": [],
   "source": [
    "tree_winequality_red = tree.DecisionTreeClassifier(max_depth = 4)\n",
    "tree_winequality_red.fit(train_df, y_train)\n",
    "\n",
    "predicted = tree_winequality_red.predict(test_df)\n",
    "score(predicted, y_test)\n",
    "\n",
    "proper = y_test\n",
    "conf_matrix = confusion_matrix(proper, predicted)\n",
    "\n",
    "print(conf_matrix)\n",
    "\n",
    "\n",
    "\n",
    "ax = sns.heatmap(conf_matrix/np.sum(conf_matrix), annot=True, fmt='.2%', cmap='Greens')\n",
    "\n",
    "ax.set_title('Wine (tree)')\n",
    "ax.set_xlabel('Predicted Values')\n",
    "ax.set_ylabel('Actual Values ')\n",
    "\n",
    "## Ticket labels - List must be in alphabetical order\n",
    "labels = ['3', '4', '5', '6', '7', '8']\n",
    "ax.xaxis.set_ticklabels(labels)\n",
    "ax.yaxis.set_ticklabels(labels)\n",
    "\n",
    "## Display the visualization of the Confusion Matrix.\n",
    "plt.show()"
   ],
   "metadata": {
    "collapsed": false,
    "pycharm": {
     "name": "#%%\n"
    }
   }
  },
  {
   "cell_type": "code",
   "execution_count": null,
   "outputs": [],
   "source": [
    "forest_winequality_red = RandomForestClassifier(max_depth=4)\n",
    "forest_winequality_red.fit(train_df, y_train)\n",
    "\n",
    "predicted = forest_winequality_red.predict(test_df)\n",
    "score(predicted, y_test)\n",
    "\n",
    "proper = y_test\n",
    "conf_matrix = confusion_matrix(proper, predicted)\n",
    "\n",
    "print(conf_matrix)\n",
    "\n",
    "\n",
    "\n",
    "ax = sns.heatmap(conf_matrix/np.sum(conf_matrix), annot=True, fmt='.2%', cmap='Greens')\n",
    "\n",
    "ax.set_title('Wine (forest)')\n",
    "ax.set_xlabel('Predicted Values')\n",
    "ax.set_ylabel('Actual Values ')\n",
    "\n",
    "## Ticket labels - List must be in alphabetical order\n",
    "labels = ['3', '4', '5', '6', '7', '8']\n",
    "ax.xaxis.set_ticklabels(labels)\n",
    "ax.yaxis.set_ticklabels(labels)\n",
    "\n",
    "## Display the visualization of the Confusion Matrix.\n",
    "plt.show()"
   ],
   "metadata": {
    "collapsed": false,
    "pycharm": {
     "name": "#%%\n"
    }
   }
  },
  {
   "cell_type": "code",
   "execution_count": null,
   "outputs": [],
   "source": [],
   "metadata": {
    "collapsed": false,
    "pycharm": {
     "name": "#%%\n"
    }
   }
  },
  {
   "cell_type": "code",
   "execution_count": null,
   "metadata": {},
   "outputs": [],
   "source": []
  }
 ],
 "metadata": {
  "kernelspec": {
   "display_name": "Python 3 (ipykernel)",
   "language": "python",
   "name": "python3"
  },
  "language_info": {
   "codemirror_mode": {
    "name": "ipython",
    "version": 3
   },
   "file_extension": ".py",
   "mimetype": "text/x-python",
   "name": "python",
   "nbconvert_exporter": "python",
   "pygments_lexer": "ipython3",
   "version": "3.9.2"
  }
 },
 "nbformat": 4,
 "nbformat_minor": 4
}